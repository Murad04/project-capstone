{
 "cells": [
  {
   "cell_type": "code",
   "execution_count": null,
   "metadata": {},
   "outputs": [],
   "source": []
  },
  {
   "cell_type": "code",
   "execution_count": 1,
   "metadata": {},
   "outputs": [],
   "source": [
    "from pushbullet import Pushbullet"
   ]
  },
  {
   "cell_type": "code",
   "execution_count": 3,
   "metadata": {},
   "outputs": [],
   "source": [
    "pb = Pushbullet('o.bsH5YVU6T6OSJc8K0K8uSKmUorMK7oRx')\n",
    "\n",
    "with open(r\"C:\\\\Users\\\\DELL\\\\Downloads\\\\Screenshot 2024-11-30 134952.jpg\", \"rb\") as pic:\n",
    "    file_data = pb.upload_file(pic, \"picture.jpg\")\n",
    "\n",
    "push = pb.push_file(**file_data)"
   ]
  },
  {
   "cell_type": "code",
   "execution_count": 5,
   "metadata": {},
   "outputs": [
    {
     "data": {
      "text/plain": [
       "[Device('Samsung SM-S928N')]"
      ]
     },
     "execution_count": 5,
     "metadata": {},
     "output_type": "execute_result"
    }
   ],
   "source": [
    "pb.devices"
   ]
  },
  {
   "cell_type": "code",
   "execution_count": 8,
   "metadata": {},
   "outputs": [
    {
     "name": "stdout",
     "output_type": "stream",
     "text": [
      "\n",
      "Push History:\n",
      "Title: None\n",
      "Body: Dur uc\n",
      "Type: note\n",
      "Timestamp: 1733825484.676549\n",
      "------------------------------\n",
      "Title: None\n",
      "Body: None\n",
      "Type: file\n",
      "Timestamp: 1733825250.436581\n",
      "------------------------------\n",
      "Title: This is the title\n",
      "Body: This is the body\n",
      "Type: note\n",
      "Timestamp: 1733825172.048404\n",
      "------------------------------\n",
      "Title: None\n",
      "Body: siktir\n",
      "Type: note\n",
      "Timestamp: 1733824809.623252\n",
      "------------------------------\n"
     ]
    }
   ],
   "source": [
    "pushes = pb.get_pushes()\n",
    "\n",
    "print(\"\\nPush History:\")\n",
    "for push in pushes:\n",
    "    print(f\"Title: {push.get('title')}\")\n",
    "    print(f\"Body: {push.get('body')}\")\n",
    "    print(f\"Type: {push.get('type')}\")\n",
    "    print(f\"Timestamp: {push.get('created')}\")\n",
    "    print(\"-\" * 30)"
   ]
  },
  {
   "cell_type": "code",
   "execution_count": null,
   "metadata": {},
   "outputs": [
    {
     "name": "stdout",
     "output_type": "stream",
     "text": [
      "Waiting for 'yes' response...\n",
      "Received 'yes' response!\n",
      "Response received: True\n"
     ]
    }
   ],
   "source": [
    "import time\n",
    "\n",
    "def wait_for_response():\n",
    "    start_time = time.time()\n",
    "    timeout = 120  # 2 minutes in seconds\n",
    "\n",
    "    print(\"Waiting for 'yes' response...\")\n",
    "    while True:\n",
    "        elapsed_time = time.time() - start_time\n",
    "        if elapsed_time > timeout:\n",
    "            print(\"Timeout reached. No response received.\")\n",
    "            return False\n",
    "\n",
    "        # Fetch the latest pushes\n",
    "        pushes = pb.get_pushes(limit=10)  # Limit to last 10 pushes to reduce load\n",
    "        for push in pushes:\n",
    "            # Check if the push contains the text \"yes\"\n",
    "            if push.get(\"body\", \"\").strip().lower() == \"yes\":\n",
    "                print(\"Received 'yes' response!\")\n",
    "                return True\n",
    "\n",
    "        # Add a short delay to avoid spamming the API\n",
    "        time.sleep(5)\n",
    "\n",
    "# Trigger the function\n",
    "response = wait_for_response()\n",
    "print(f\"Response received: {response}\")\n"
   ]
  },
  {
   "cell_type": "code",
   "execution_count": null,
   "metadata": {},
   "outputs": [],
   "source": []
  }
 ],
 "metadata": {
  "kernelspec": {
   "display_name": "Python 3",
   "language": "python",
   "name": "python3"
  },
  "language_info": {
   "codemirror_mode": {
    "name": "ipython",
    "version": 3
   },
   "file_extension": ".py",
   "mimetype": "text/x-python",
   "name": "python",
   "nbconvert_exporter": "python",
   "pygments_lexer": "ipython3",
   "version": "3.12.8"
  }
 },
 "nbformat": 4,
 "nbformat_minor": 2
}
